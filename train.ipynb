{
 "cells": [
  {
   "cell_type": "code",
   "id": "initial_id",
   "metadata": {
    "collapsed": true,
    "ExecuteTime": {
     "end_time": "2025-02-04T22:31:01.637728Z",
     "start_time": "2025-02-04T22:31:00.782263Z"
    }
   },
   "source": [
    "import this\n",
    "\n",
    "import pandas as pd\n",
    "from thoughtfulness_model import ThoughtfulnessModel\n"
   ],
   "outputs": [
    {
     "name": "stdout",
     "output_type": "stream",
     "text": [
      "The review belongs to: Tier 3: Thoughtful (detailed, unique, and relevant)\n"
     ]
    }
   ],
   "execution_count": 23
  },
  {
   "metadata": {
    "ExecuteTime": {
     "end_time": "2025-02-04T22:31:24.728080Z",
     "start_time": "2025-02-04T22:31:01.638745Z"
    }
   },
   "cell_type": "code",
   "source": [
    "# Load dataset and explore\n",
    "print(\"Loading dataset...\")\n",
    "df = pd.read_csv('dataset.csv')\n",
    "\n",
    "print(df.head())\n",
    "print(\"\\n\")\n",
    "print(df.info())\n",
    "print(\"\\n\")\n",
    "print(df.describe())\n",
    "print(\"\\n\")\n",
    "print(df['review_text'].head())\n",
    "print(\"\\n\")"
   ],
   "id": "3dd25e727881d373",
   "outputs": [
    {
     "name": "stdout",
     "output_type": "stream",
     "text": [
      "Loading dataset...\n",
      "   app_id        app_name                                        review_text  \\\n",
      "0      10  Counter-Strike                                    Ruined my life.   \n",
      "1      10  Counter-Strike  This will be more of a ''my experience with th...   \n",
      "2      10  Counter-Strike                      This game saved my virginity.   \n",
      "3      10  Counter-Strike  • Do you like original games? • Do you like ga...   \n",
      "4      10  Counter-Strike           Easy to learn, hard to master.             \n",
      "\n",
      "   review_score  review_votes  \n",
      "0             1             0  \n",
      "1             1             1  \n",
      "2             1             0  \n",
      "3             1             0  \n",
      "4             1             1  \n",
      "\n",
      "\n",
      "<class 'pandas.core.frame.DataFrame'>\n",
      "RangeIndex: 6417106 entries, 0 to 6417105\n",
      "Data columns (total 5 columns):\n",
      " #   Column        Dtype \n",
      "---  ------        ----- \n",
      " 0   app_id        int64 \n",
      " 1   app_name      object\n",
      " 2   review_text   object\n",
      " 3   review_score  int64 \n",
      " 4   review_votes  int64 \n",
      "dtypes: int64(3), object(2)\n",
      "memory usage: 244.8+ MB\n",
      "None\n",
      "\n",
      "\n",
      "             app_id  review_score  review_votes\n",
      "count  6.417106e+06  6.417106e+06  6.417106e+06\n",
      "mean   2.274695e+05  6.394992e-01  1.472446e-01\n",
      "std    1.260451e+05  7.687918e-01  3.543496e-01\n",
      "min    1.000000e+01 -1.000000e+00  0.000000e+00\n",
      "25%    2.018100e+05  1.000000e+00  0.000000e+00\n",
      "50%    2.391600e+05  1.000000e+00  0.000000e+00\n",
      "75%    3.056200e+05  1.000000e+00  0.000000e+00\n",
      "max    5.653400e+05  1.000000e+00  1.000000e+00\n",
      "\n",
      "\n",
      "0                                      Ruined my life.\n",
      "1    This will be more of a ''my experience with th...\n",
      "2                        This game saved my virginity.\n",
      "3    • Do you like original games? • Do you like ga...\n",
      "4             Easy to learn, hard to master.          \n",
      "Name: review_text, dtype: object\n",
      "\n",
      "\n"
     ]
    }
   ],
   "execution_count": 24
  },
  {
   "metadata": {
    "ExecuteTime": {
     "end_time": "2025-02-04T22:31:25.513660Z",
     "start_time": "2025-02-04T22:31:24.729093Z"
    }
   },
   "cell_type": "code",
   "source": [
    "# Initialize the ThoughtfulnessModel\n",
    "manual_keywords = [\n",
    "    \"gameplay\", \"mechanics\", \"levels\", \"difficulty\", \"balance\",\n",
    "    \"graphics\", \"resolution\", \"textures\", \"lighting\", \"animation\",\n",
    "    \"soundtrack\", \"audio\", \"music\", \"effects\", \"story\", \"plot\",\n",
    "    \"characters\", \"narrative\", \"controls\", \"input\", \"interface\",\n",
    "    \"ak\", \"m4a1\", \"sniper\", \"headshot\", \"weapon\", \"recoil\", \"quests\",\n",
    "    \"loot\", \"skills\", \"character\", \"dialogue\", \"leveling\", \"ranked\",\n",
    "    \"matchmaking\", \"strategy\", \"heroes\", \"abilities\"\n",
    "]\n",
    "\n",
    "model = ThoughtfulnessModel(manual_keywords)"
   ],
   "id": "342a69fd81ac4447",
   "outputs": [],
   "execution_count": 25
  },
  {
   "metadata": {
    "ExecuteTime": {
     "end_time": "2025-02-04T22:31:51.365673Z",
     "start_time": "2025-02-04T22:31:25.514679Z"
    }
   },
   "cell_type": "code",
   "source": [
    "# Clean the reviews\n",
    "print(\"Cleaning reviews...\")\n",
    "df = df.dropna(subset=['review_text'])\n",
    "df['cleaned_review'] = df['review_text'].apply(model.clean_text)\n",
    "\n",
    "print(df.info())\n",
    "print(\"\\n\")\n",
    "print(df['cleaned_review'].head())\n",
    "print(\"\\n\")"
   ],
   "id": "9b465cbce0d21c8f",
   "outputs": [
    {
     "name": "stdout",
     "output_type": "stream",
     "text": [
      "Cleaning reviews...\n",
      "<class 'pandas.core.frame.DataFrame'>\n",
      "Index: 6409801 entries, 0 to 6417105\n",
      "Data columns (total 6 columns):\n",
      " #   Column          Dtype \n",
      "---  ------          ----- \n",
      " 0   app_id          int64 \n",
      " 1   app_name        object\n",
      " 2   review_text     object\n",
      " 3   review_score    int64 \n",
      " 4   review_votes    int64 \n",
      " 5   cleaned_review  object\n",
      "dtypes: int64(3), object(3)\n",
      "memory usage: 342.3+ MB\n",
      "None\n",
      "\n",
      "\n",
      "0                                       ruined my life\n",
      "1    this will be more of a my experience with this...\n",
      "2                         this game saved my virginity\n",
      "3    do you like original games  do you like games ...\n",
      "4                         easy to learn hard to master\n",
      "Name: cleaned_review, dtype: object\n",
      "\n",
      "\n"
     ]
    }
   ],
   "execution_count": 26
  },
  {
   "metadata": {
    "ExecuteTime": {
     "end_time": "2025-02-04T23:32:44.776117Z",
     "start_time": "2025-02-04T22:54:57.749075Z"
    }
   },
   "cell_type": "code",
   "source": [
    "from tqdm import tqdm\n",
    "\n",
    "print(\"Assigning tiers to reviews...\")\n",
    "\n",
    "# 配置 tqdm 的进度条\n",
    "tqdm.pandas(desc=\"Processing reviews\")\n",
    "\n",
    "# 使用 tqdm 的 progress_apply 替代 apply 方法\n",
    "df['tier'] = df['cleaned_review'].progress_apply(lambda text: model.hybrid_tier_prediction(text))\n"
   ],
   "id": "14a756b9744afd8d",
   "outputs": [
    {
     "name": "stdout",
     "output_type": "stream",
     "text": [
      "Assigning tiers to reviews...\n"
     ]
    },
    {
     "name": "stderr",
     "output_type": "stream",
     "text": [
      "Processing reviews: 100%|██████████| 6409801/6409801 [37:47<00:00, 2827.43it/s]  \n"
     ]
    }
   ],
   "execution_count": 30
  },
  {
   "metadata": {
    "ExecuteTime": {
     "end_time": "2025-02-04T23:32:44.804221Z",
     "start_time": "2025-02-04T23:32:44.777121Z"
    }
   },
   "cell_type": "code",
   "source": [
    "# Analyze the tier distribution\n",
    "print(\"Analyzing tier distribution...\")\n",
    "tier_counts = df['tier'].value_counts()\n",
    "print(tier_counts)"
   ],
   "id": "5ff906a72bc13fd2",
   "outputs": [
    {
     "name": "stdout",
     "output_type": "stream",
     "text": [
      "Analyzing tier distribution...\n",
      "tier\n",
      "2    4761893\n",
      "1    1505670\n",
      "0     134292\n",
      "3       7946\n",
      "Name: count, dtype: int64\n"
     ]
    }
   ],
   "execution_count": 31
  },
  {
   "metadata": {
    "ExecuteTime": {
     "end_time": "2025-02-04T23:32:45.377554Z",
     "start_time": "2025-02-04T23:32:44.804221Z"
    }
   },
   "cell_type": "code",
   "source": [
    "# Visualize the tier distribution\n",
    "import matplotlib.pyplot as plt\n",
    "\n",
    "tier_counts.plot(kind='bar', color='skyblue')\n",
    "plt.title(\"Distribution of Reviews by Tier\")\n",
    "plt.xlabel(\"Tier\")\n",
    "plt.ylabel(\"Number of Reviews\")\n",
    "plt.xticks(rotation=0)\n",
    "plt.show()"
   ],
   "id": "4cc44db3fe83cc8f",
   "outputs": [
    {
     "data": {
      "text/plain": [
       "<Figure size 640x480 with 1 Axes>"
      ],
      "image/png": "[encoded data removed]"
     },
     "metadata": {},
     "output_type": "display_data"
    }
   ],
   "execution_count": 32
  },
  {
   "metadata": {
    "ExecuteTime": {
     "end_time": "2025-02-04T23:33:38.794097Z",
     "start_time": "2025-02-04T23:32:45.377821Z"
    }
   },
   "cell_type": "code",
   "source": [
    "# Save the results\n",
    "output_path = \"tiered_reviews.csv\"\n",
    "df.to_csv(output_path, index=False)\n",
    "print(f\"Tiered reviews saved to {output_path}\")"
   ],
   "id": "9230c9fcfcf50957",
   "outputs": [
    {
     "name": "stdout",
     "output_type": "stream",
     "text": [
      "Tiered reviews saved to tiered_reviews.csv\n"
     ]
    }
   ],
   "execution_count": 33
  }
 ],
 "metadata": {
  "kernelspec": {
   "display_name": "Python 3",
   "language": "python",
   "name": "python3"
  },
  "language_info": {
   "codemirror_mode": {
    "name": "ipython",
    "version": 2
   },
   "file_extension": ".py",
   "mimetype": "text/x-python",
   "name": "python",
   "nbconvert_exporter": "python",
   "pygments_lexer": "ipython2",
   "version": "2.7.6"
  }
 },
 "nbformat": 4,
 "nbformat_minor": 5
}
